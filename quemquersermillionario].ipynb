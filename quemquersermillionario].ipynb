{
  "nbformat": 4,
  "nbformat_minor": 0,
  "metadata": {
    "colab": {
      "provenance": [],
      "authorship_tag": "ABX9TyP1uKW7pkIn7NODkkWXW16k",
      "include_colab_link": true
    },
    "kernelspec": {
      "name": "python3",
      "display_name": "Python 3"
    },
    "language_info": {
      "name": "python"
    }
  },
  "cells": [
    {
      "cell_type": "markdown",
      "metadata": {
        "id": "view-in-github",
        "colab_type": "text"
      },
      "source": [
        "<a href=\"https://colab.research.google.com/github/X3DTHING/quemquersermillionario/blob/main/quemquersermillionario%5D.ipynb\" target=\"_parent\"><img src=\"https://colab.research.google.com/assets/colab-badge.svg\" alt=\"Open In Colab\"/></a>"
      ]
    },
    {
      "cell_type": "code",
      "execution_count": 2,
      "metadata": {
        "colab": {
          "base_uri": "https://localhost:8080/"
        },
        "id": "KBqTyMljxcVg",
        "outputId": "a04fe9b0-6002-4acf-ba57-8205cbd5d6bc"
      },
      "outputs": [
        {
          "output_type": "stream",
          "name": "stdout",
          "text": [
            "Pergunta 1: Quem escreveu 'Dom Quixote'?\n",
            "A) Miguel de Cervantes\n",
            "B) William Shakespeare\n",
            "C) Dante Alighieri\n",
            "D) James Joyce\n",
            "Qual é a sua resposta? (Digite a letra correspondente): a\n",
            "Resposta correta!\n",
            "Você ganhou 100000 reais!\n",
            "Pergunta 2: Qual é a capital do Brasil?\n",
            "A) São Paulo\n",
            "B) Rio de Janeiro\n",
            "C) Brasília\n",
            "D) Belo Horizonte\n",
            "Qual é a sua resposta? (Digite a letra correspondente): c\n",
            "Resposta correta!\n",
            "Você ganhou 200000 reais!\n",
            "Parabéns! Você ganhou 1 milhão de reais!\n"
          ]
        }
      ],
      "source": [
        "import random\n",
        "\n",
        "class Question:\n",
        "    def __init__(self, prompt, options, answer):\n",
        "        self.prompt = prompt\n",
        "        self.options = options\n",
        "        self.answer = answer\n",
        "\n",
        "# Defina suas perguntas aqui\n",
        "questions = [\n",
        "    Question(\"Qual é a capital do Brasil?\", [\"A) São Paulo\", \"B) Rio de Janeiro\", \"C) Brasília\", \"D) Belo Horizonte\"], \"C\"),\n",
        "    Question(\"Quem escreveu 'Dom Quixote'?\", [\"A) Miguel de Cervantes\", \"B) William Shakespeare\", \"C) Dante Alighieri\", \"D) James Joyce\"], \"A\"),\n",
        "    # Adicione mais perguntas conforme necessário\n",
        "]\n",
        "\n",
        "def run_game(questions):\n",
        "    random.shuffle(questions)\n",
        "    money = 0\n",
        "    for i, question in enumerate(questions, start=1):\n",
        "        print(f\"Pergunta {i}: {question.prompt}\")\n",
        "        for option in question.options:\n",
        "            print(option)\n",
        "        user_answer = input(\"Qual é a sua resposta? (Digite a letra correspondente): \").upper()\n",
        "        if user_answer == question.answer:\n",
        "            money += 100000\n",
        "            print(\"Resposta correta!\")\n",
        "            print(f\"Você ganhou {money} reais!\")\n",
        "        else:\n",
        "            print(\"Resposta incorreta! Fim de jogo.\")\n",
        "            print(f\"Você ganhou {money} reais.\")\n",
        "            return\n",
        "    print(\"Parabéns! Você ganhou 1 milhão de reais!\")\n",
        "\n",
        "if __name__ == \"__main__\":\n",
        "    run_game(questions)\n"
      ]
    }
  ]
}